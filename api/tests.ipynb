{
 "cells": [
  {
   "cell_type": "code",
   "execution_count": 1,
   "id": "950075bd",
   "metadata": {},
   "outputs": [],
   "source": [
    "from models.User import Gerente"
   ]
  },
  {
   "cell_type": "code",
   "execution_count": 2,
   "id": "2d71e715",
   "metadata": {},
   "outputs": [
    {
     "data": {
      "text/plain": [
       "ObjectId('683a8344eb2aaab8d1017a26')"
      ]
     },
     "execution_count": 2,
     "metadata": {},
     "output_type": "execute_result"
    }
   ],
   "source": [
    "user = Gerente(\n",
    "    usuario=\"luisruben2997@gmail.com\",\n",
    "    password=\"password_inseguro\",\n",
    "    role=\"user\",\n",
    "    nombre = \"Luis Ramos\",\n",
    "    salon = \"oid\"\n",
    ")\n",
    "\n",
    "user.save()\n"
   ]
  },
  {
   "cell_type": "code",
   "execution_count": null,
   "id": "81f7264d",
   "metadata": {},
   "outputs": [],
   "source": []
  }
 ],
 "metadata": {
  "kernelspec": {
   "display_name": "Python 3",
   "language": "python",
   "name": "python3"
  },
  "language_info": {
   "codemirror_mode": {
    "name": "ipython",
    "version": 3
   },
   "file_extension": ".py",
   "mimetype": "text/x-python",
   "name": "python",
   "nbconvert_exporter": "python",
   "pygments_lexer": "ipython3",
   "version": "3.11.8"
  }
 },
 "nbformat": 4,
 "nbformat_minor": 5
}
