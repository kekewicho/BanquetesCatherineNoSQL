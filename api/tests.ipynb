{
 "cells": [
  {
   "cell_type": "code",
   "execution_count": 1,
   "id": "950075bd",
   "metadata": {},
   "outputs": [],
   "source": [
    "from model.User import User"
   ]
  },
  {
   "cell_type": "code",
   "execution_count": 2,
   "id": "2d71e715",
   "metadata": {},
   "outputs": [],
   "source": [
    "user = User(\n",
    "    usuario=\"luisruben2997@gmail.com\",\n",
    "    password=\"password_inseguro\",\n",
    "    role=\"user\",\n",
    "    nombre = \"Luis Ramos\"\n",
    ")"
   ]
  },
  {
   "cell_type": "code",
   "execution_count": 3,
   "id": "86f545c9",
   "metadata": {},
   "outputs": [
    {
     "name": "stdout",
     "output_type": "stream",
     "text": [
      "Se modifica\n"
     ]
    }
   ],
   "source": [
    "result = user.save()"
   ]
  },
  {
   "cell_type": "code",
   "execution_count": 4,
   "id": "78fa5f49",
   "metadata": {},
   "outputs": [
    {
     "name": "stdout",
     "output_type": "stream",
     "text": [
      "None\n"
     ]
    }
   ],
   "source": [
    "print(result)"
   ]
  }
 ],
 "metadata": {
  "kernelspec": {
   "display_name": "Python 3",
   "language": "python",
   "name": "python3"
  },
  "language_info": {
   "codemirror_mode": {
    "name": "ipython",
    "version": 3
   },
   "file_extension": ".py",
   "mimetype": "text/x-python",
   "name": "python",
   "nbconvert_exporter": "python",
   "pygments_lexer": "ipython3",
   "version": "3.11.8"
  }
 },
 "nbformat": 4,
 "nbformat_minor": 5
}
