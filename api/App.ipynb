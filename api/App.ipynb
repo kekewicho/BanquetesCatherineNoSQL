{
 "cells": [
  {
   "cell_type": "markdown",
   "id": "b4d67957",
   "metadata": {},
   "source": [
    "# Aplicación Principal de Backend\n"
   ]
  },
  {
   "cell_type": "code",
   "execution_count": 23,
   "id": "327f9436",
   "metadata": {},
   "outputs": [
    {
     "name": "stdout",
     "output_type": "stream",
     "text": [
      " * Serving Flask app '__main__'\n",
      " * Debug mode: off\n"
     ]
    },
    {
     "name": "stderr",
     "output_type": "stream",
     "text": [
      "WARNING: This is a development server. Do not use it in a production deployment. Use a production WSGI server instead.\n",
      " * Running on http://127.0.0.1:5000\n",
      "Press CTRL+C to quit\n",
      "[2025-05-30 00:52:09,628] ERROR in app: Exception on /usuarios [POST]\n",
      "Traceback (most recent call last):\n",
      "  File \"c:\\Users\\rubis\\AppData\\Local\\Programs\\Python\\Python312\\Lib\\site-packages\\flask\\app.py\", line 1511, in wsgi_app\n",
      "    response = self.full_dispatch_request()\n",
      "               ^^^^^^^^^^^^^^^^^^^^^^^^^^^^\n",
      "  File \"c:\\Users\\rubis\\AppData\\Local\\Programs\\Python\\Python312\\Lib\\site-packages\\flask\\app.py\", line 919, in full_dispatch_request\n",
      "    rv = self.handle_user_exception(e)\n",
      "         ^^^^^^^^^^^^^^^^^^^^^^^^^^^^^\n",
      "  File \"c:\\Users\\rubis\\AppData\\Local\\Programs\\Python\\Python312\\Lib\\site-packages\\flask\\app.py\", line 917, in full_dispatch_request\n",
      "    rv = self.dispatch_request()\n",
      "         ^^^^^^^^^^^^^^^^^^^^^^^\n",
      "  File \"c:\\Users\\rubis\\AppData\\Local\\Programs\\Python\\Python312\\Lib\\site-packages\\flask\\app.py\", line 902, in dispatch_request\n",
      "    return self.ensure_sync(self.view_functions[rule.endpoint])(**view_args)  # type: ignore[no-any-return]\n",
      "           ^^^^^^^^^^^^^^^^^^^^^^^^^^^^^^^^^^^^^^^^^^^^^^^^^^^^^^^^^^^^^^^^^\n",
      "  File \"c:\\Users\\rubis\\Documents\\Ingeniería en Software\\6to Semestre\\Base de Datos II\\No Relacionales\\Proyecto Final\\BanquetesCatherineNoSQL\\api\\controller\\UsuarioController.py\", line 10, in crear_usuario\n",
      "    response, status = UsuarioService.registrar_usuario(data)\n",
      "                       ^^^^^^^^^^^^^^^^^^^^^^^^^^^^^^^^^^^^^^\n",
      "  File \"c:\\Users\\rubis\\Documents\\Ingeniería en Software\\6to Semestre\\Base de Datos II\\No Relacionales\\Proyecto Final\\BanquetesCatherineNoSQL\\api\\service\\UsuarioService.py\", line 22, in registrar_usuario\n",
      "    coleccion.insert_one(usuario.to_dict())\n",
      "                         ^^^^^^^^^^^^^^^\n",
      "AttributeError: 'Cliente' object has no attribute 'to_dict'\n",
      "127.0.0.1 - - [30/May/2025 00:52:09] \"POST /usuarios HTTP/1.1\" 500 -\n"
     ]
    }
   ],
   "source": [
    "# App.ipynb (celda 1)\n",
    "from flask import Flask\n",
    "from controller.UsuarioController import usuario_bp\n",
    "\n",
    "app = Flask(__name__)\n",
    "app.register_blueprint(usuario_bp)\n",
    "\n",
    "if __name__ == \"__main__\":\n",
    "    app.run()"
   ]
  }
 ],
 "metadata": {
  "kernelspec": {
   "display_name": "Python 3",
   "language": "python",
   "name": "python3"
  },
  "language_info": {
   "codemirror_mode": {
    "name": "ipython",
    "version": 3
   },
   "file_extension": ".py",
   "mimetype": "text/x-python",
   "name": "python",
   "nbconvert_exporter": "python",
   "pygments_lexer": "ipython3",
   "version": "3.12.5"
  }
 },
 "nbformat": 4,
 "nbformat_minor": 5
}
