{
 "cells": [
  {
   "cell_type": "markdown",
   "id": "b4d67957",
   "metadata": {},
   "source": [
    "# Aplicación Principal de Backend\n"
   ]
  },
  {
   "cell_type": "code",
   "execution_count": null,
   "id": "327f9436",
   "metadata": {},
   "outputs": [
    {
     "name": "stdout",
     "output_type": "stream",
     "text": [
      "Map([<Rule '/static/<filename>' (HEAD, GET, OPTIONS) -> static>,\n",
      " <Rule '/usuarios' (POST, OPTIONS) -> usuario_bp.crear_usuario>,\n",
      " <Rule '/usuarios' (HEAD, GET, OPTIONS) -> usuario_bp.listar_usuarios>,\n",
      " <Rule '/usuarios/login' (POST, OPTIONS) -> usuario_bp.login_usuario>,\n",
      " <Rule '/platillo/ingrediente' (POST, OPTIONS) -> platillo_bp.crear_ingrediente>,\n",
      " <Rule '/platillo/ingrediente/<_id>' (DELETE, OPTIONS) -> platillo_bp.eliminar_ingrediente>,\n",
      " <Rule '/platillo' (POST, OPTIONS) -> platillo_bp.crear_platillo>,\n",
      " <Rule '/platillo/<_id>' (DELETE, OPTIONS) -> platillo_bp.eliminar_platillo>])\n",
      " * Serving Flask app '__main__'\n",
      " * Debug mode: off\n"
     ]
    },
    {
     "name": "stderr",
     "output_type": "stream",
     "text": [
      "WARNING: This is a development server. Do not use it in a production deployment. Use a production WSGI server instead.\n",
      " * Running on http://127.0.0.1:5000\n",
      "Press CTRL+C to quit\n",
      "127.0.0.1 - - [30/May/2025 18:25:01] \"POST /platillo/login/ingrediente HTTP/1.1\" 404 -\n",
      "127.0.0.1 - - [30/May/2025 18:25:18] \"POST /platillo/ingrediente HTTP/1.1\" 201 -\n",
      "127.0.0.1 - - [30/May/2025 18:25:32] \"POST /platillo/ingrediente HTTP/1.1\" 201 -\n",
      "127.0.0.1 - - [30/May/2025 18:25:43] \"POST /platillo/ingrediente HTTP/1.1\" 201 -\n",
      "127.0.0.1 - - [30/May/2025 18:25:51] \"POST /platillo/ingrediente HTTP/1.1\" 201 -\n",
      "127.0.0.1 - - [30/May/2025 18:25:59] \"POST /platillo/ingrediente HTTP/1.1\" 201 -\n",
      "127.0.0.1 - - [30/May/2025 18:28:43] \"DELETE /platillo/ingrediente/{ HTTP/1.1\" 400 -\n",
      "127.0.0.1 - - [30/May/2025 18:29:47] \"POST /platillo HTTP/1.1\" 201 -\n",
      "127.0.0.1 - - [30/May/2025 18:29:56] \"POST /platillo HTTP/1.1\" 201 -\n",
      "127.0.0.1 - - [30/May/2025 18:30:02] \"POST /platillo HTTP/1.1\" 201 -\n",
      "127.0.0.1 - - [30/May/2025 18:30:08] \"POST /platillo HTTP/1.1\" 201 -\n",
      "127.0.0.1 - - [30/May/2025 18:30:18] \"POST /platillo HTTP/1.1\" 201 -\n"
     ]
    }
   ],
   "source": [
    "# App.ipynb (celda 1)\n",
    "from flask import Flask\n",
    "from controller.UsuarioController import usuario_bp\n",
    "from controller.PlatilloController import platillo_bp\n",
    "from controller.EventoController import evento_bp\n",
    "\n",
    "\n",
    "app = Flask(__name__)\n",
    "\n",
    "app.register_blueprint(usuario_bp)\n",
    "app.register_blueprint(platillo_bp)\n",
    "app.register_blueprint(evento_bp)\n",
    "\n",
    "print(app.url_map)\n",
    "\n",
    "if __name__ == \"__main__\":\n",
    "    app.run()"
   ]
  }
 ],
 "metadata": {
  "kernelspec": {
   "display_name": "Python 3",
   "language": "python",
   "name": "python3"
  },
  "language_info": {
   "codemirror_mode": {
    "name": "ipython",
    "version": 3
   },
   "file_extension": ".py",
   "mimetype": "text/x-python",
   "name": "python",
   "nbconvert_exporter": "python",
   "pygments_lexer": "ipython3",
   "version": "3.12.5"
  }
 },
 "nbformat": 4,
 "nbformat_minor": 5
}
